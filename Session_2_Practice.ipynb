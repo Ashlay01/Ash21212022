{
  "nbformat": 4,
  "nbformat_minor": 0,
  "metadata": {
    "colab": {
      "provenance": [],
      "authorship_tag": "ABX9TyOsDsE+Sfkzlb2uvnW68JMF",
      "include_colab_link": true
    },
    "kernelspec": {
      "name": "python3",
      "display_name": "Python 3"
    },
    "language_info": {
      "name": "python"
    }
  },
  "cells": [
    {
      "cell_type": "markdown",
      "metadata": {
        "id": "view-in-github",
        "colab_type": "text"
      },
      "source": [
        "<a href=\"https://colab.research.google.com/github/Ashlay01/Ash21212022/blob/main/Session_2_Practice.ipynb\" target=\"_parent\"><img src=\"https://colab.research.google.com/assets/colab-badge.svg\" alt=\"Open In Colab\"/></a>"
      ]
    },
    {
      "cell_type": "code",
      "execution_count": 1,
      "metadata": {
        "colab": {
          "base_uri": "https://localhost:8080/"
        },
        "id": "gjkYL6_hJrK3",
        "outputId": "b3cf55e3-fb5a-4600-b5bb-ecbcee3e0ac6"
      },
      "outputs": [
        {
          "output_type": "stream",
          "name": "stdout",
          "text": [
            "hello world\n"
          ]
        }
      ],
      "source": [
        "print(\"hello world\")"
      ]
    },
    {
      "cell_type": "code",
      "source": [
        "print(\"hola amigo\"+ \" yah man\")"
      ],
      "metadata": {
        "colab": {
          "base_uri": "https://localhost:8080/"
        },
        "id": "qQOnFoRzPccq",
        "outputId": "755a0f3e-56d3-48d4-e2ce-64a926c66b57"
      },
      "execution_count": 4,
      "outputs": [
        {
          "output_type": "stream",
          "name": "stdout",
          "text": [
            "hola amigo yah man\n"
          ]
        }
      ]
    },
    {
      "cell_type": "code",
      "source": [
        "x = 10\n",
        "x = \"lkmm\"\n",
        "print(x)"
      ],
      "metadata": {
        "colab": {
          "base_uri": "https://localhost:8080/"
        },
        "id": "DYME484QVfHI",
        "outputId": "3f12a75f-998c-4c94-8d79-5356da072df0"
      },
      "execution_count": 5,
      "outputs": [
        {
          "output_type": "stream",
          "name": "stdout",
          "text": [
            "lkmm\n"
          ]
        }
      ]
    },
    {
      "cell_type": "code",
      "source": [
        "x = (\"grand\"+\" p\")\n",
        "print(x)"
      ],
      "metadata": {
        "colab": {
          "base_uri": "https://localhost:8080/"
        },
        "id": "Y3RQiuJBV19w",
        "outputId": "f93c92e5-6506-46c7-c1c4-0bcf6946b5e5"
      },
      "execution_count": 9,
      "outputs": [
        {
          "output_type": "stream",
          "name": "stdout",
          "text": [
            "grand p\n"
          ]
        }
      ]
    },
    {
      "cell_type": "code",
      "source": [
        "print( type(x))"
      ],
      "metadata": {
        "colab": {
          "base_uri": "https://localhost:8080/"
        },
        "id": "3HQujgfrWQX8",
        "outputId": "3bf2e113-a96c-434b-f491-ed568e596628"
      },
      "execution_count": 8,
      "outputs": [
        {
          "output_type": "stream",
          "name": "stdout",
          "text": [
            "<class 'str'>\n"
          ]
        }
      ]
    },
    {
      "cell_type": "code",
      "source": [
        "y = [\"666\", \"armada\"]\n",
        "print(type(y))"
      ],
      "metadata": {
        "colab": {
          "base_uri": "https://localhost:8080/"
        },
        "id": "lzatwEP4Wfad",
        "outputId": "fc097de5-8c56-47c8-d061-9702986123ac"
      },
      "execution_count": 10,
      "outputs": [
        {
          "output_type": "stream",
          "name": "stdout",
          "text": [
            "<class 'list'>\n"
          ]
        }
      ]
    },
    {
      "cell_type": "code",
      "source": [
        "print(y)"
      ],
      "metadata": {
        "colab": {
          "base_uri": "https://localhost:8080/"
        },
        "id": "5wnTaD13W5Ga",
        "outputId": "3cdcfe9b-fe0f-4b9b-f4cb-2a78ccdb5e1d"
      },
      "execution_count": 11,
      "outputs": [
        {
          "output_type": "stream",
          "name": "stdout",
          "text": [
            "['666', 'armada']\n"
          ]
        }
      ]
    },
    {
      "cell_type": "code",
      "source": [
        "age = 100\n",
        "print(\"this person is\", age, \"years old\")"
      ],
      "metadata": {
        "colab": {
          "base_uri": "https://localhost:8080/"
        },
        "id": "C-lRALxdY4qE",
        "outputId": "8306efee-3bfe-4d6f-fa3a-66b4e588bd49"
      },
      "execution_count": 13,
      "outputs": [
        {
          "output_type": "stream",
          "name": "stdout",
          "text": [
            "this person is 100 years old\n"
          ]
        }
      ]
    },
    {
      "cell_type": "code",
      "source": [
        "#Input\n",
        "\n",
        "age = input()\n",
        "print (\"This person is\", age, \"years old\")"
      ],
      "metadata": {
        "colab": {
          "base_uri": "https://localhost:8080/"
        },
        "id": "WX8l-vk1b8j4",
        "outputId": "6d67a5d2-3299-48e7-847d-d56683731b8f"
      },
      "execution_count": 15,
      "outputs": [
        {
          "output_type": "stream",
          "name": "stdout",
          "text": [
            "pln\n",
            "This person is pln years old\n"
          ]
        }
      ]
    },
    {
      "cell_type": "code",
      "source": [
        "#Input\n",
        "\n",
        "surname = input(\" Enter your surname \")\n",
        "name = input(\" Enter your name \")\n",
        "age = input(\" Enter your age \")\n",
        "address = input(\" Enter your address\n",
        "\")\n",
        "print(\"This person is\", surname, name, \"you are\", age, \"years old, and you live at\", address)"
      ],
      "metadata": {
        "colab": {
          "base_uri": "https://localhost:8080/"
        },
        "id": "g6Lz7cTUcmLH",
        "outputId": "80774fbb-1a0c-4c1f-e0ce-42130c257234"
      },
      "execution_count": 21,
      "outputs": [
        {
          "output_type": "stream",
          "name": "stdout",
          "text": [
            " Enter your surname wawa\n",
            " Enter your name willy\n",
            " Enter your age 1000\n",
            " Enter your address plaisance\n",
            "This person is wawa willy you are 1000 years old, and you live at plaisance\n"
          ]
        }
      ]
    },
    {
      "cell_type": "code",
      "source": [
        "info = \"\"\n",
        "info = info + \"Your full name is\" + surname + \"\" + name\n",
        "print(info)"
      ],
      "metadata": {
        "colab": {
          "base_uri": "https://localhost:8080/"
        },
        "id": "n8Cvy17fqFif",
        "outputId": "930866e6-5fcc-484b-e642-fcc99232e0ea"
      },
      "execution_count": 22,
      "outputs": [
        {
          "output_type": "stream",
          "name": "stdout",
          "text": [
            "Your full name iswawawilly\n"
          ]
        }
      ]
    },
    {
      "cell_type": "code",
      "source": [
        "info = \"\"\n",
        "info = info + \"Your full name is\" + surname + \" \" + name\n",
        "info = info + \". You are \" + age\n",
        "info = info + \" years old and you stay at \" + address\n",
        "\n",
        "print(info)"
      ],
      "metadata": {
        "colab": {
          "base_uri": "https://localhost:8080/"
        },
        "id": "_IK0oRFoqc8u",
        "outputId": "a42f7d08-6ffd-4b24-842c-62d6da8a2ce8"
      },
      "execution_count": 23,
      "outputs": [
        {
          "output_type": "stream",
          "name": "stdout",
          "text": [
            "Your full name iswawa willy. You are 1000 years old and you stay at plaisance\n"
          ]
        }
      ]
    },
    {
      "cell_type": "code",
      "source": [
        "#Write a program to accept 2 numbers from the user and display their sum\n",
        "\n",
        "number1 = input(\"Enter number 1 =\")\n",
        "number2 = input(\"Enter number 2 =\")\n",
        "\n",
        "total = number1 + number2\n",
        "\n",
        "print(total)"
      ],
      "metadata": {
        "colab": {
          "base_uri": "https://localhost:8080/"
        },
        "id": "pPJiIoVEtD80",
        "outputId": "f30fee9d-d80b-4f3e-dcbe-b3489253f532"
      },
      "execution_count": 25,
      "outputs": [
        {
          "output_type": "stream",
          "name": "stdout",
          "text": [
            "Enter number 1 =5\n",
            "Enter number 2 =5\n",
            "55\n"
          ]
        }
      ]
    },
    {
      "cell_type": "code",
      "source": [
        "#Write a program to accept 2 numbers from the user and display their sum\n",
        "\n",
        "\n",
        "#Data type conversation from str to int\n",
        "x = int(number1)\n",
        "y = int(number2)\n",
        "total = x + y\n",
        "\n",
        "print(total)"
      ],
      "metadata": {
        "colab": {
          "base_uri": "https://localhost:8080/"
        },
        "id": "5pdtpzxsuEpk",
        "outputId": "335e8c66-746b-4185-c031-4da51635967c"
      },
      "execution_count": 26,
      "outputs": [
        {
          "output_type": "stream",
          "name": "stdout",
          "text": [
            "10\n"
          ]
        }
      ]
    }
  ]
}