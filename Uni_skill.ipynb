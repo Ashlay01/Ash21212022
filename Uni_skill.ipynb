{
  "nbformat": 4,
  "nbformat_minor": 0,
  "metadata": {
    "colab": {
      "provenance": [],
      "authorship_tag": "ABX9TyMoTzMnBF4AUF+EZBp3ikFF",
      "include_colab_link": true
    },
    "kernelspec": {
      "name": "python3",
      "display_name": "Python 3"
    },
    "language_info": {
      "name": "python"
    }
  },
  "cells": [
    {
      "cell_type": "markdown",
      "metadata": {
        "id": "view-in-github",
        "colab_type": "text"
      },
      "source": [
        "<a href=\"https://colab.research.google.com/github/Ashlay01/Ash21212022/blob/main/Uni_skill.ipynb\" target=\"_parent\"><img src=\"https://colab.research.google.com/assets/colab-badge.svg\" alt=\"Open In Colab\"/></a>"
      ]
    },
    {
      "cell_type": "code",
      "source": [
        "#Addition\n",
        "num1 = int(input(\"Enter number one\"))\n",
        "num2 = int(input(\"Enter number two\"))\n",
        "\n",
        "result = num1 + num2\n",
        "\n",
        "print(result)"
      ],
      "metadata": {
        "colab": {
          "base_uri": "https://localhost:8080/"
        },
        "id": "szC2Y5NB2LnR",
        "outputId": "1214ebd0-d750-4024-eb61-c21740c1820f"
      },
      "execution_count": 9,
      "outputs": [
        {
          "output_type": "stream",
          "name": "stdout",
          "text": [
            "Enter number one666\n",
            "Enter number two1\n",
            "667\n"
          ]
        }
      ]
    },
    {
      "cell_type": "code",
      "source": [
        "#Subtraction \n",
        "\n",
        "num1 = float(input(\"Enter number one\"))\n",
        "num2 = float(input(\"Enter number two\"))\n",
        "\n",
        "result = num1 - num2\n",
        "\n",
        "print(result)\n"
      ],
      "metadata": {
        "colab": {
          "base_uri": "https://localhost:8080/"
        },
        "id": "KDVmkk8P2xJa",
        "outputId": "997a2f63-ee70-4f93-8e79-a746bb09e442"
      },
      "execution_count": 11,
      "outputs": [
        {
          "output_type": "stream",
          "name": "stdout",
          "text": [
            "Enter number one2\n",
            "Enter number two4\n",
            "-2.0\n"
          ]
        }
      ]
    },
    {
      "cell_type": "code",
      "source": [
        "#Multiplication\n",
        "\n",
        "num1 = int(input(\"Enter first number\"))\n",
        "num2 = int(input(\"Enter second number\")) \n",
        "\n",
        "result = num1 * num2\n",
        "\n",
        "print(result)"
      ],
      "metadata": {
        "colab": {
          "base_uri": "https://localhost:8080/"
        },
        "id": "gp7SaH_B3nJ9",
        "outputId": "7a6f7198-309f-456d-91dd-8e010310f2e9"
      },
      "execution_count": 12,
      "outputs": [
        {
          "output_type": "stream",
          "name": "stdout",
          "text": [
            "Enter first number3\n",
            "Enter second number3\n",
            "9\n"
          ]
        }
      ]
    },
    {
      "cell_type": "code",
      "source": [
        "#Division\n",
        "\n",
        "num1 = int(input(\"Enter first number\"))\n",
        "num2 = int(input(\"Enter second number\")) \n",
        "\n",
        "result = num1 / num2\n",
        "\n",
        "print(result)"
      ],
      "metadata": {
        "colab": {
          "base_uri": "https://localhost:8080/"
        },
        "id": "Wl2gq9dV4PXE",
        "outputId": "8a1b7223-cd74-4165-f535-3b9beac52f49"
      },
      "execution_count": 13,
      "outputs": [
        {
          "output_type": "stream",
          "name": "stdout",
          "text": [
            "Enter first number10\n",
            "Enter second number2\n",
            "5.0\n"
          ]
        }
      ]
    },
    {
      "cell_type": "code",
      "source": [
        "Make a choice:\n",
        "1.Addition\n",
        "2.Substraction\n",
        "3.Division\n",
        "4.Multiplication\n",
        "5.Exit\n",
        "choice\n",
        "\n",
        "if choice == 1\n",
        "do addition\n",
        "elif choice == 2\n",
        "do substraction "
      ],
      "metadata": {
        "colab": {
          "base_uri": "https://localhost:8080/",
          "height": 130
        },
        "id": "gOVtGu04DupW",
        "outputId": "0a09562a-f0d2-4f21-ab0f-758bc99ba574"
      },
      "execution_count": 15,
      "outputs": [
        {
          "output_type": "error",
          "ename": "SyntaxError",
          "evalue": "ignored",
          "traceback": [
            "\u001b[0;36m  File \u001b[0;32m\"<ipython-input-15-067ac578cee1>\"\u001b[0;36m, line \u001b[0;32m1\u001b[0m\n\u001b[0;31m    Make a choice:\u001b[0m\n\u001b[0m         ^\u001b[0m\n\u001b[0;31mSyntaxError\u001b[0m\u001b[0;31m:\u001b[0m invalid syntax\n"
          ]
        }
      ]
    },
    {
      "cell_type": "code",
      "source": [
        "while True:\n",
        "    print(\"Make a choice:\")\n",
        "    print(\"1. Addition\")\n",
        "    print(\"2. Subtraction\")\n",
        "    print(\"3. Exit\")\n",
        "    choice = int(input(\"Choice: \"))\n",
        "    \n",
        "    if choice == 1:\n",
        "        num1 = int(input(\"Enter first number: \"))\n",
        "        num2 = int(input(\"Enter second number: \"))\n",
        "        Result = num1 + num2\n",
        "        print(Result)\n",
        "        \n",
        "    elif choice == 2:\n",
        "        num1 = int(input(\"Enter first number: \"))\n",
        "        num2 = int(input(\"Enter second number: \"))\n",
        "        Result = num1 - num2\n",
        "        print(Result)\n",
        "        \n",
        "    elif choice == 3:\n",
        "        print(\"Exiting the program...\")\n",
        "        break\n",
        "        \n",
        "    else:\n",
        "        print(\"Invalid choice. Please try again.\")\n"
      ],
      "metadata": {
        "colab": {
          "base_uri": "https://localhost:8080/"
        },
        "id": "c8bWAd0dEs7A",
        "outputId": "8170b2f7-2bec-48ba-fa1d-bb3fa4c676f4"
      },
      "execution_count": 22,
      "outputs": [
        {
          "output_type": "stream",
          "name": "stdout",
          "text": [
            "Make a choice:\n",
            "1. Addition\n",
            "2. Subtraction\n",
            "3. Exit\n",
            "Choice: 1\n",
            "Enter first number: 2\n",
            "Enter second number: 2\n",
            "4\n",
            "Make a choice:\n",
            "1. Addition\n",
            "2. Subtraction\n",
            "3. Exit\n",
            "Choice: 2\n",
            "Enter first number: 6\n",
            "Enter second number: 2\n",
            "4\n",
            "Make a choice:\n",
            "1. Addition\n",
            "2. Subtraction\n",
            "3. Exit\n",
            "Choice: 3\n",
            "Exiting the program...\n"
          ]
        }
      ]
    },
    {
      "cell_type": "code",
      "source": [],
      "metadata": {
        "id": "C_Rw0z-_IfLb"
      },
      "execution_count": null,
      "outputs": []
    }
  ]
}