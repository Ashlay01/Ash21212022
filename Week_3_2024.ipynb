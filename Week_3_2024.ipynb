{
  "nbformat": 4,
  "nbformat_minor": 0,
  "metadata": {
    "colab": {
      "provenance": [],
      "authorship_tag": "ABX9TyOon5l28hOsh+L1F1T7K3ba",
      "include_colab_link": true
    },
    "kernelspec": {
      "name": "python3",
      "display_name": "Python 3"
    },
    "language_info": {
      "name": "python"
    }
  },
  "cells": [
    {
      "cell_type": "markdown",
      "metadata": {
        "id": "view-in-github",
        "colab_type": "text"
      },
      "source": [
        "<a href=\"https://colab.research.google.com/github/Ashlay01/Ash21212022/blob/main/Week_3_2024.ipynb\" target=\"_parent\"><img src=\"https://colab.research.google.com/assets/colab-badge.svg\" alt=\"Open In Colab\"/></a>"
      ]
    },
    {
      "cell_type": "code",
      "execution_count": 2,
      "metadata": {
        "colab": {
          "base_uri": "https://localhost:8080/"
        },
        "id": "DfBfl8HmRdQe",
        "outputId": "c8ac3ad8-a9fc-4c01-e7ba-55f3def856ce"
      },
      "outputs": [
        {
          "output_type": "stream",
          "name": "stdout",
          "text": [
            "5 is positive\n"
          ]
        }
      ],
      "source": [
        "x = 5\n",
        "if x > 0:\n",
        "  print(x, \"is positive\")\n"
      ]
    },
    {
      "cell_type": "code",
      "source": [
        "x = -5\n",
        "if x > 0:\n",
        "    print(x, \"is positive\")\n",
        "else:\n",
        "    print(x, \"is negative\")"
      ],
      "metadata": {
        "colab": {
          "base_uri": "https://localhost:8080/"
        },
        "id": "Ffk1_DqIWWTT",
        "outputId": "4bccb319-2e1a-4c01-edb9-ac8d9398c83e"
      },
      "execution_count": 3,
      "outputs": [
        {
          "output_type": "stream",
          "name": "stdout",
          "text": [
            "-5 is negative\n"
          ]
        }
      ]
    },
    {
      "cell_type": "code",
      "source": [
        "print(\"Option A\")\n",
        "print(\"Option B\")\n",
        "print(\"Option C\")\n",
        "print(\"Option D\")\n",
        "\n",
        "selection = input(\"Select your option = \")\n",
        "\n",
        "if selection == \"Option A\":\n",
        "  print(\"Option A selected\")\n",
        "elif selection == \"Option B\":\n",
        "  print(\"Option B selected\")\n",
        "elif selection == \"Option C\":\n",
        "  print(\"Option C selected\")\n",
        "elif selection == \"Option D\":\n",
        "  print(\"Option D selected\")\n",
        "else:\n",
        "  print( \"This option is not available!\")\n"
      ],
      "metadata": {
        "colab": {
          "base_uri": "https://localhost:8080/"
        },
        "id": "ACaFZeM1bCFY",
        "outputId": "3a266750-5f73-40ba-bcfd-78dd0d61e099"
      },
      "execution_count": 5,
      "outputs": [
        {
          "output_type": "stream",
          "name": "stdout",
          "text": [
            "Option A\n",
            "Option B\n",
            "Option C\n",
            "Option D\n",
            "Select your option = Option C\n",
            "Option C selected\n"
          ]
        }
      ]
    }
  ]
}