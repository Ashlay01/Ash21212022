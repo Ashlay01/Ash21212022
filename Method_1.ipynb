{
  "nbformat": 4,
  "nbformat_minor": 0,
  "metadata": {
    "colab": {
      "provenance": [],
      "authorship_tag": "ABX9TyP1Dd9Is+frZyDeahJ6gy/t",
      "include_colab_link": true
    },
    "kernelspec": {
      "name": "python3",
      "display_name": "Python 3"
    },
    "language_info": {
      "name": "python"
    }
  },
  "cells": [
    {
      "cell_type": "markdown",
      "metadata": {
        "id": "view-in-github",
        "colab_type": "text"
      },
      "source": [
        "<a href=\"https://colab.research.google.com/github/Ashlay01/Ash21212022/blob/main/Method_1.ipynb\" target=\"_parent\"><img src=\"https://colab.research.google.com/assets/colab-badge.svg\" alt=\"Open In Colab\"/></a>"
      ]
    },
    {
      "cell_type": "code",
      "execution_count": 1,
      "metadata": {
        "id": "4MZoaWybMYA6"
      },
      "outputs": [],
      "source": [
        "from urllib import request "
      ]
    },
    {
      "cell_type": "code",
      "source": [
        "remote_url = \"https://www.google.com/robots.txt\""
      ],
      "metadata": {
        "id": "jDwb6ISAMemG"
      },
      "execution_count": 2,
      "outputs": []
    },
    {
      "cell_type": "code",
      "source": [
        "local_file = \"local_copy.txt\""
      ],
      "metadata": {
        "id": "7Ae2vK_AMrPt"
      },
      "execution_count": 3,
      "outputs": []
    },
    {
      "cell_type": "code",
      "source": [
        "request.urlretrieve(remote_url, local_file)"
      ],
      "metadata": {
        "colab": {
          "base_uri": "https://localhost:8080/"
        },
        "id": "g6sNYo5wNQVP",
        "outputId": "e79663f0-41b3-48ad-e52a-aa2a5d55c638"
      },
      "execution_count": 4,
      "outputs": [
        {
          "output_type": "execute_result",
          "data": {
            "text/plain": [
              "('local_copy.txt', <http.client.HTTPMessage at 0x7f5240365af0>)"
            ]
          },
          "metadata": {},
          "execution_count": 4
        }
      ]
    }
  ]
}