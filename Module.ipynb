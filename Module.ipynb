{
  "nbformat": 4,
  "nbformat_minor": 0,
  "metadata": {
    "colab": {
      "provenance": [],
      "mount_file_id": "1S8aSq6H4GW03kTDYOV-YCKRE2VhLa6Dm",
      "authorship_tag": "ABX9TyMjsYDRSpRLpE7mOGmBWLhX",
      "include_colab_link": true
    },
    "kernelspec": {
      "name": "python3",
      "display_name": "Python 3"
    },
    "language_info": {
      "name": "python"
    }
  },
  "cells": [
    {
      "cell_type": "markdown",
      "metadata": {
        "id": "view-in-github",
        "colab_type": "text"
      },
      "source": [
        "<a href=\"https://colab.research.google.com/github/Ashlay01/Ash21212022/blob/main/Module.ipynb\" target=\"_parent\"><img src=\"https://colab.research.google.com/assets/colab-badge.svg\" alt=\"Open In Colab\"/></a>"
      ]
    },
    {
      "cell_type": "code",
      "execution_count": 2,
      "metadata": {
        "id": "sXsiovjFua99"
      },
      "outputs": [],
      "source": [
        " #open a file ''Text.txt and perform write operations on iy2 with open ('Text.txt', 'w') as f: \n",
        " #write the default sentence \"This is the first line\" in your file\n",
        " sentence = \"This is the first line\"\n",
        " \n",
        "#Accept a user input and write it to file \n",
        "\n",
        " #Define a list of customers with the following names Fred, Alex, John, Katherine\n",
        "\n",
        " #write that list to your file \n"
      ]
    },
    {
      "cell_type": "code",
      "source": [
        "1 #open a file \"Text.txt\" and read the comment\n",
        "2\n",
        "3 #display all the contents to the screen\n",
        "4\n",
        "5 #display only the first line in the file\n",
        "6\n",
        "7 #convert the text values into a list"
      ],
      "metadata": {
        "id": "dn3fQv19vLEu"
      },
      "execution_count": null,
      "outputs": []
    },
    {
      "cell_type": "code",
      "source": [
        "1 #open a file \"Text.txt\" and update the content\n",
        "2\n",
        "3 #include the default sentence \"This is the updated line\"\n",
        "4\n",
        "5 #read the file to see whether the sentece has been written in your file "
      ],
      "metadata": {
        "id": "M_PoYQYAvlpt"
      },
      "execution_count": null,
      "outputs": []
    }
  ]
}