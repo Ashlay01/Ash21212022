{
  "nbformat": 4,
  "nbformat_minor": 0,
  "metadata": {
    "colab": {
      "provenance": [],
      "authorship_tag": "ABX9TyMAAnhm6pqplagBtmVQ5pVW",
      "include_colab_link": true
    },
    "kernelspec": {
      "name": "python3",
      "display_name": "Python 3"
    },
    "language_info": {
      "name": "python"
    }
  },
  "cells": [
    {
      "cell_type": "markdown",
      "metadata": {
        "id": "view-in-github",
        "colab_type": "text"
      },
      "source": [
        "<a href=\"https://colab.research.google.com/github/Ashlay01/Ash21212022/blob/main/Method_2.ipynb\" target=\"_parent\"><img src=\"https://colab.research.google.com/assets/colab-badge.svg\" alt=\"Open In Colab\"/></a>"
      ]
    },
    {
      "cell_type": "code",
      "execution_count": 1,
      "metadata": {
        "id": "m-9KMgkhLLYK"
      },
      "outputs": [],
      "source": [
        "import requests "
      ]
    },
    {
      "cell_type": "code",
      "source": [
        "remote_url = \"https://www.google.com/robots.txt\""
      ],
      "metadata": {
        "id": "T7Fb53u7LVSY"
      },
      "execution_count": 2,
      "outputs": []
    },
    {
      "cell_type": "code",
      "source": [
        "data = requests.get(remote_url)"
      ],
      "metadata": {
        "id": "bpDg5VGPLhnB"
      },
      "execution_count": 3,
      "outputs": []
    },
    {
      "cell_type": "code",
      "source": [
        "with open(\"test.txt\", \"wb\") as file:\n",
        "  file.write(data.content)"
      ],
      "metadata": {
        "id": "XAHdVwhpLm2f"
      },
      "execution_count": 4,
      "outputs": []
    }
  ]
}