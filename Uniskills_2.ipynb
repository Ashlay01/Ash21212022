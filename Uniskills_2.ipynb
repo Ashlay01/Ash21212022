{
  "cells": [
    {
      "cell_type": "markdown",
      "metadata": {
        "id": "view-in-github",
        "colab_type": "text"
      },
      "source": [
        "<a href=\"https://colab.research.google.com/github/Ashlay01/Ash21212022/blob/main/Uniskills_2.ipynb\" target=\"_parent\"><img src=\"https://colab.research.google.com/assets/colab-badge.svg\" alt=\"Open In Colab\"/></a>"
      ]
    },
    {
      "cell_type": "code",
      "execution_count": null,
      "metadata": {
        "colab": {
          "background_save": true,
          "base_uri": "https://localhost:8080/"
        },
        "id": "7rDlhmaufIjX",
        "outputId": "737d87cf-cc7d-4d89-cccb-e9f58f9f0859"
      },
      "outputs": [
        {
          "name": "stdout",
          "output_type": "stream",
          "text": [
            " \n",
            "  Select the operation you want to do:\n",
            "  1. Add one element\n",
            "  2. Add more than one element\n",
            "  3. Remove \n",
            "  4. Display\n",
            "  5. Length of the list \n",
            "  6. Minimum Value of the list\n",
            "  7. Maximum Value of the list \n",
            "  8. Exit \n",
            "  \n",
            "Add one element\n",
            " \n",
            "  Select the operation you want to do:\n",
            "  1. Add one element\n",
            "  2. Add more than one element\n",
            "  3. Remove \n",
            "  4. Display\n",
            "  5. Length of the list \n",
            "  6. Minimum Value of the list\n",
            "  7. Maximum Value of the list \n",
            "  8. Exit \n",
            "  \n",
            "[666]\n",
            " \n",
            "  Select the operation you want to do:\n",
            "  1. Add one element\n",
            "  2. Add more than one element\n",
            "  3. Remove \n",
            "  4. Display\n",
            "  5. Length of the list \n",
            "  6. Minimum Value of the list\n",
            "  7. Maximum Value of the list \n",
            "  8. Exit \n",
            "  \n"
          ]
        }
      ],
      "source": [
        "def addlist():\n",
        "  print(\"Add one element\") \n",
        "  user = int(input(\"Add a number\")) \n",
        "  ashlay.append(user)\n",
        "\n",
        "ashlay = [] \n",
        "\n",
        "\n",
        "start = True\n",
        "while start: \n",
        "  print(''' \n",
        "  Select the operation you want to do:\n",
        "  1. Add one element\n",
        "  2. Add more than one element\n",
        "  3. Remove \n",
        "  4. Display\n",
        "  5. Length of the list \n",
        "  6. Minimum Value of the list\n",
        "  7. Maximum Value of the list \n",
        "  8. Exit \n",
        "  ''') \n",
        "  choice = int(input(\"Choice:\")) \n",
        "\n",
        "  if choice == 8:\n",
        "    print(\"Goodbye\")\n",
        "    start = False \n",
        "\n",
        "  else:\n",
        "    if choice == 1:\n",
        "      addlist()\n",
        "    elif choice == 4:\n",
        "      print(ashlay)\n",
        "\n",
        "\n",
        "\n",
        "\n",
        "\n",
        "\n",
        "\n"
      ]
    },
    {
      "cell_type": "code",
      "execution_count": null,
      "metadata": {
        "id": "PdA_YDustPd9"
      },
      "outputs": [],
      "source": []
    }
  ],
  "metadata": {
    "colab": {
      "provenance": [],
      "authorship_tag": "ABX9TyMCnfDtZqZ6rZ/AvvEqiJUZ",
      "include_colab_link": true
    },
    "kernelspec": {
      "display_name": "Python 3",
      "name": "python3"
    },
    "language_info": {
      "name": "python"
    }
  },
  "nbformat": 4,
  "nbformat_minor": 0
}