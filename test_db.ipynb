{
  "nbformat": 4,
  "nbformat_minor": 0,
  "metadata": {
    "colab": {
      "provenance": [],
      "authorship_tag": "ABX9TyMC43aGTdi20mCtUMiNQt3w",
      "include_colab_link": true
    },
    "kernelspec": {
      "name": "python3",
      "display_name": "Python 3"
    },
    "language_info": {
      "name": "python"
    }
  },
  "cells": [
    {
      "cell_type": "markdown",
      "metadata": {
        "id": "view-in-github",
        "colab_type": "text"
      },
      "source": [
        "<a href=\"https://colab.research.google.com/github/Ashlay01/Ash21212022/blob/main/test_db.ipynb\" target=\"_parent\"><img src=\"https://colab.research.google.com/assets/colab-badge.svg\" alt=\"Open In Colab\"/></a>"
      ]
    },
    {
      "cell_type": "code",
      "execution_count": 11,
      "metadata": {
        "id": "7uIn7PMTJrqL"
      },
      "outputs": [],
      "source": [
        "import sqlite3\n",
        "\n",
        "conn = sqlite3.connect(\"test.db\")"
      ]
    },
    {
      "cell_type": "code",
      "source": [
        "cur = conn.cursor()"
      ],
      "metadata": {
        "id": "oFyo9MCVPIJC"
      },
      "execution_count": 12,
      "outputs": []
    },
    {
      "cell_type": "code",
      "source": [
        "sql = \"\"\"\n",
        "CREATE TABLE IF NOT EXISTS users(\n",
        "  userid INT PRIMARY KEY,\n",
        "  fname TEXT,\n",
        "  lname TEXT,\n",
        "  superhero TEXT,\n",
        "  gender TEXT);\n",
        "\"\"\"\n",
        "\n",
        "# Execute query\n",
        "cur.execute(sql)\n",
        " "
      ],
      "metadata": {
        "colab": {
          "base_uri": "https://localhost:8080/"
        },
        "id": "s0KbKvaCPSkz",
        "outputId": "c79084af-3c6b-4f66-bdbd-379b029fd972"
      },
      "execution_count": 13,
      "outputs": [
        {
          "output_type": "execute_result",
          "data": {
            "text/plain": [
              "<sqlite3.Cursor at 0x7f528aa097c0>"
            ]
          },
          "metadata": {},
          "execution_count": 13
        }
      ]
    },
    {
      "cell_type": "code",
      "source": [
        "sql='''\n",
        "PRAGMA table_info('users');\n",
        "'''\n",
        "\n",
        "cur.execute(sql)\n",
        "cur.fetchall()"
      ],
      "metadata": {
        "colab": {
          "base_uri": "https://localhost:8080/"
        },
        "id": "gmnlxJ4ZS0TI",
        "outputId": "cdbc4ec1-8665-4000-ecc4-ad6114f91e38"
      },
      "execution_count": 14,
      "outputs": [
        {
          "output_type": "execute_result",
          "data": {
            "text/plain": [
              "[(0, 'userid', 'INT', 0, None, 1),\n",
              " (1, 'fname', 'TEXT', 0, None, 0),\n",
              " (2, 'lname', 'TEXT', 0, None, 0),\n",
              " (3, 'superhero', 'TEXT', 0, None, 0),\n",
              " (4, 'gender', 'TEXT', 0, None, 0)]"
            ]
          },
          "metadata": {},
          "execution_count": 14
        }
      ]
    },
    {
      "cell_type": "code",
      "source": [
        "#Create a second table in the database \n",
        "sql = \"\"\"\n",
        "CREATE TABLE IF NOT EXISTS film(\n",
        "  filmid INT PRIMARY KEY,\n",
        "  filmName TEXT,\n",
        "  filmDescription TEXT,\n",
        "  filmRating INT,\n",
        "  filmProducer TEXT);\n",
        "  \"\"\"\n",
        "cur.execute(sql)"
      ],
      "metadata": {
        "colab": {
          "base_uri": "https://localhost:8080/"
        },
        "id": "ahj0Yh4rSb4W",
        "outputId": "23ddd9a7-d775-43f9-855f-1810c3658aa0"
      },
      "execution_count": 17,
      "outputs": [
        {
          "output_type": "execute_result",
          "data": {
            "text/plain": [
              "<sqlite3.Cursor at 0x7f528aa097c0>"
            ]
          },
          "metadata": {},
          "execution_count": 17
        }
      ]
    },
    {
      "cell_type": "code",
      "source": [
        "#Check schema of database\n",
        "sql = \"\"\"\n",
        "Select name\n",
        "FROM sqlite_master\n",
        "WHERE type = 'table';\n",
        "\"\"\"\n",
        "cur.execute(sql)\n",
        "cur.fetchall()"
      ],
      "metadata": {
        "colab": {
          "base_uri": "https://localhost:8080/"
        },
        "id": "Hb-cI2S6Sfst",
        "outputId": "8024d031-c6f5-4d13-e5dd-617b7d9491a6"
      },
      "execution_count": 18,
      "outputs": [
        {
          "output_type": "execute_result",
          "data": {
            "text/plain": [
              "[('users',), ('film',)]"
            ]
          },
          "metadata": {},
          "execution_count": 18
        }
      ]
    },
    {
      "cell_type": "code",
      "source": [
        "sql='''\n",
        "PRAGMA table_info('film');\n",
        "'''\n",
        "\n",
        "cur.execute(sql)\n",
        "cur.fetchall()"
      ],
      "metadata": {
        "colab": {
          "base_uri": "https://localhost:8080/"
        },
        "id": "P7fe5gavTLB5",
        "outputId": "82b1a958-d7e6-4b24-98c1-cf49de68fb8f"
      },
      "execution_count": 20,
      "outputs": [
        {
          "output_type": "execute_result",
          "data": {
            "text/plain": [
              "[(0, 'filmid', 'INT', 0, None, 1),\n",
              " (1, 'filmName', 'TEXT', 0, None, 0),\n",
              " (2, 'filmDescription', 'TEXT', 0, None, 0),\n",
              " (3, 'filmRating', 'INT', 0, None, 0),\n",
              " (4, 'filmProducer', 'TEXT', 0, None, 0)]"
            ]
          },
          "metadata": {},
          "execution_count": 20
        }
      ]
    },
    {
      "cell_type": "code",
      "source": [],
      "metadata": {
        "id": "kfey6yu1TU0G"
      },
      "execution_count": null,
      "outputs": []
    },
    {
      "cell_type": "code",
      "source": [
        "#insert data into table\n",
        "sql = \"\"\"\n",
        "INSERT INTO users\n",
        "VALUES (1, 'ASH', 'NSL', 'MALE', 'X-Men');\n",
        "\"\"\"\n",
        "\n",
        "cur.execute(sql)"
      ],
      "metadata": {
        "colab": {
          "base_uri": "https://localhost:8080/"
        },
        "id": "cml-o1DLUkcO",
        "outputId": "b01dd5d3-6b59-4db9-d4f6-af206dbf88b9"
      },
      "execution_count": 24,
      "outputs": [
        {
          "output_type": "execute_result",
          "data": {
            "text/plain": [
              "<sqlite3.Cursor at 0x7f528aa097c0>"
            ]
          },
          "metadata": {},
          "execution_count": 24
        }
      ]
    },
    {
      "cell_type": "code",
      "source": [
        "#check whether data has been inserted into table users\n",
        "sql = \"\"\"\n",
        "SELECT *\n",
        "FROM users;\n",
        "\"\"\"\n",
        "\n",
        "cur.execute(sql)\n",
        "cur.fetchall()"
      ],
      "metadata": {
        "colab": {
          "base_uri": "https://localhost:8080/"
        },
        "id": "8ph19ia_VvpW",
        "outputId": "cf10e37e-ab63-4604-8e1b-1dedaed976d7"
      },
      "execution_count": 25,
      "outputs": [
        {
          "output_type": "execute_result",
          "data": {
            "text/plain": [
              "[(1, 'ASH', 'NSL', 'MALE', 'X-Men')]"
            ]
          },
          "metadata": {},
          "execution_count": 25
        }
      ]
    },
    {
      "cell_type": "code",
      "source": [
        "#fetching data from table users\n",
        "sql = \"\"\"\n",
        "SELECT *\n",
        "FROM users;\n",
        "\"\"\"\n",
        "\n",
        "rows = cur.execute(sql)\n",
        "\n",
        "for row in rows:\n",
        "  print(row)"
      ],
      "metadata": {
        "colab": {
          "base_uri": "https://localhost:8080/"
        },
        "id": "s9IZSzheWo4R",
        "outputId": "69b09999-d19b-4a54-929d-f306381591f8"
      },
      "execution_count": 26,
      "outputs": [
        {
          "output_type": "stream",
          "name": "stdout",
          "text": [
            "(1, 'ASH', 'NSL', 'MALE', 'X-Men')\n"
          ]
        }
      ]
    },
    {
      "cell_type": "code",
      "source": [
        "#inserting many values in the database\n",
        "many_values = [(2, \"WAWA\", \"ASH\", \"BEBE\", \"xxx\"), (3, \"NSL\", \"SAS\", \"SMC\", \"ddd\")]\n",
        "\n",
        "sql = \"\"\"\n",
        "INSERT INTO users\n",
        "VALUES (?,?,?,?,?)\n",
        "\"\"\"\n",
        "cur.executemany(sql, many_values)"
      ],
      "metadata": {
        "colab": {
          "base_uri": "https://localhost:8080/"
        },
        "id": "5KbhT9GyXl6H",
        "outputId": "65a62a87-b058-4ccc-8f74-97ce3d69d8a0"
      },
      "execution_count": 32,
      "outputs": [
        {
          "output_type": "execute_result",
          "data": {
            "text/plain": [
              "<sqlite3.Cursor at 0x7f528aa097c0>"
            ]
          },
          "metadata": {},
          "execution_count": 32
        }
      ]
    },
    {
      "cell_type": "code",
      "source": [
        "#fetching data from table users\n",
        "sql = \"\"\"\n",
        "SELECT *\n",
        "FROM users;\n",
        "\"\"\"\n",
        "\n",
        "rows = cur.execute(sql)\n",
        "\n",
        "for row in rows:\n",
        "  print(row)"
      ],
      "metadata": {
        "colab": {
          "base_uri": "https://localhost:8080/"
        },
        "id": "nQtm-moOZrRR",
        "outputId": "4ff12ef4-57bf-4856-9b2b-18682f0b8b8d"
      },
      "execution_count": 33,
      "outputs": [
        {
          "output_type": "stream",
          "name": "stdout",
          "text": [
            "(1, 'ASH', 'NSL', 'MALE', 'X-Men')\n",
            "(2, 'WAWA', 'ASH', 'BEBE', 'xxx')\n",
            "(3, 'NSL', 'SAS', 'SMC', 'ddd')\n"
          ]
        }
      ]
    }
  ]
}