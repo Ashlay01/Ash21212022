{
  "cells": [
    {
      "cell_type": "markdown",
      "metadata": {
        "id": "view-in-github",
        "colab_type": "text"
      },
      "source": [
        "<a href=\"https://colab.research.google.com/github/Ashlay01/Ash21212022/blob/main/payslip.ipynb\" target=\"_parent\"><img src=\"https://colab.research.google.com/assets/colab-badge.svg\" alt=\"Open In Colab\"/></a>"
      ]
    },
    {
      "cell_type": "markdown",
      "metadata": {
        "id": "kF8ldRydTDPx"
      },
      "source": [
        "# Payslip\n",
        "\n",
        "A payslip is a document that shows their total wages earned for a set period. \n",
        "This might be from a salary, hourly wages or commission. Payslips are also know as\n",
        "‘pay advice’.  Traditionally the payslip was a paper document attached. Today\n",
        "most organisations provide them electronically.\n",
        "\n",
        "## Task 0 - Import into GitHub\n",
        "First, import the notebook into Colab and save an initial copy to GitHub.\n",
        "\n",
        "## Task 1 - Start Simple\n",
        "\n",
        "Writing complete robust programs can take time.  Often the more we understand a \n",
        "problem the easier it is to implement the solution.   One approach is to \n",
        "implement the simplest version of a program and then slowly add functionality.\n",
        "\n",
        "The aim of this notebook is to start simple and slowly build up the program.\n",
        "The approach we take below is one way to understand a problem, step 1 of our\n",
        "development process. For complex projects, they often follow a similar idea\n",
        "where they implement a minimal program, and each week or month have intense \n",
        "periods were the team adds functionality.  These advanced methodologies are \n",
        "beyond the scope of an introductory programming course but start small and \n",
        "slowly add functionality we do capture the essence of the process.\n",
        "\n",
        "\n",
        "### The Initial (minimal) Program\n",
        "\n",
        "Consider 'Ram' who has a salary of \\$25000.  They have sold goods worth $20000 \n",
        "and earns 2% commission on the sales. They fall into the 10% tax bracket. We \n",
        "will talk about tax-brackets in another notebook. Before making payments the\n",
        "organisation needs to deduct 10% tax.\n",
        "\n",
        "We need to program to print out a payslip for sales people.  Our payslip\n",
        "is very simple, we need a title, the amount of salary, the amount of commission, \n",
        "the amount of tax, and the total pay.\n",
        "\n",
        "Run the following program for one person."
      ]
    },
    {
      "cell_type": "code",
      "execution_count": null,
      "metadata": {
        "colab": {
          "base_uri": "https://localhost:8080/"
        },
        "id": "2UenEHfcTuLz",
        "outputId": "616c55b5-7e14-4230-c189-7070247ac799"
      },
      "outputs": [
        {
          "output_type": "stream",
          "name": "stdout",
          "text": [
            "Payslip of Ram\n",
            "Salary 25000 Commission 400.0 Tax 2540.0\n",
            "Total pay 22860.0\n"
          ]
        }
      ],
      "source": [
        "salary = 25000\n",
        "sales = 20000\n",
        "commission = 0.02 * sales\n",
        "tax = (salary + commission) * 0.10\n",
        "pay = salary + commission - tax\n",
        "print('Payslip of Ram')\n",
        "print('Salary', salary,'Commission',commission,'Tax', tax)\n",
        "print('Total pay',pay)"
      ]
    },
    {
      "cell_type": "markdown",
      "metadata": {
        "id": "QzcJGzRBUDz2"
      },
      "source": [
        "Now, consider 'Radha' who has a salary of \\$30000.  They have sold goods worth $40000 and earns 2.5% commision on the sales. They fall into the 10% tax bracket and so before making payments we need to deduct 10% form his total payout."
      ]
    },
    {
      "cell_type": "code",
      "execution_count": null,
      "metadata": {
        "id": "wFmuD9ujUgDW",
        "colab": {
          "base_uri": "https://localhost:8080/"
        },
        "outputId": "ae8bc5e1-67d7-44d2-a8aa-395a6a1cc5b2"
      },
      "outputs": [
        {
          "output_type": "stream",
          "name": "stdout",
          "text": [
            "Patslip of Radha\n",
            "Salary 30000 Commision 0.025 Tax 3000.0025000000005\n",
            "Total pay 27000.0225\n"
          ]
        }
      ],
      "source": [
        "salary = 30000 \n",
        "sales = 40000\n",
        "commision = 0.025\n",
        "tax = (salary + commision) * 0.10\n",
        "pay = salary + commision - tax\n",
        "print('Patslip of Radha')\n",
        "print('Salary', salary,'Commision',commision,'Tax', tax)\n",
        "print('Total pay', pay)"
      ]
    },
    {
      "cell_type": "markdown",
      "metadata": {
        "id": "UFGObxq7UlvE"
      },
      "source": [
        "## Task 2 - Generalise\n",
        "\n",
        "What did we change from Ram to Radha?"
      ]
    },
    {
      "cell_type": "code",
      "execution_count": null,
      "metadata": {
        "id": "zMEi9q1dUr36"
      },
      "outputs": [],
      "source": [
        "#The calculation for commision was different, for Radha sales was not taken into consideration and payslip was wrongly written. \n",
        "#The output result for Ram is 2 decimal places.  \n",
        "\n",
        "\n",
        "\n"
      ]
    },
    {
      "cell_type": "markdown",
      "metadata": {
        "id": "7PrlmDmYV6iX"
      },
      "source": [
        "Make what we changed as inputs (parameters) to a function"
      ]
    },
    {
      "cell_type": "code",
      "execution_count": null,
      "metadata": {
        "id": "cJwgf8nZWDF6",
        "colab": {
          "base_uri": "https://localhost:8080/",
          "height": 339
        },
        "outputId": "c0839cf9-c306-418e-fc51-7925681f8027"
      },
      "outputs": [
        {
          "name": "stdout",
          "output_type": "stream",
          "text": [
            "Enter Salary:\n",
            "40000\n",
            "Enter Sales:\n",
            "3000\n",
            "Enter Commission:\n",
            "0.05\n"
          ]
        },
        {
          "output_type": "error",
          "ename": "TypeError",
          "evalue": "ignored",
          "traceback": [
            "\u001b[0;31m---------------------------------------------------------------------------\u001b[0m",
            "\u001b[0;31mTypeError\u001b[0m                                 Traceback (most recent call last)",
            "\u001b[0;32m<ipython-input-12-c6ccbbbe15ca>\u001b[0m in \u001b[0;36m<module>\u001b[0;34m\u001b[0m\n\u001b[1;32m      6\u001b[0m \u001b[0mprint\u001b[0m\u001b[0;34m(\u001b[0m\u001b[0;34m'Enter Commission:'\u001b[0m \u001b[0;34m)\u001b[0m\u001b[0;34m\u001b[0m\u001b[0;34m\u001b[0m\u001b[0m\n\u001b[1;32m      7\u001b[0m \u001b[0mcommision\u001b[0m \u001b[0;34m=\u001b[0m \u001b[0minput\u001b[0m\u001b[0;34m(\u001b[0m\u001b[0;34m)\u001b[0m\u001b[0;34m\u001b[0m\u001b[0;34m\u001b[0m\u001b[0m\n\u001b[0;32m----> 8\u001b[0;31m \u001b[0mtax\u001b[0m \u001b[0;34m=\u001b[0m \u001b[0;34m(\u001b[0m\u001b[0msalary\u001b[0m \u001b[0;34m+\u001b[0m \u001b[0mcommision\u001b[0m\u001b[0;34m)\u001b[0m \u001b[0;34m*\u001b[0m \u001b[0;36m0.10\u001b[0m\u001b[0;34m\u001b[0m\u001b[0;34m\u001b[0m\u001b[0m\n\u001b[0m\u001b[1;32m      9\u001b[0m \u001b[0mpay\u001b[0m \u001b[0;34m=\u001b[0m \u001b[0msalary\u001b[0m \u001b[0;34m+\u001b[0m \u001b[0mcommision\u001b[0m \u001b[0;34m-\u001b[0m \u001b[0mtax\u001b[0m\u001b[0;34m\u001b[0m\u001b[0;34m\u001b[0m\u001b[0m\n\u001b[1;32m     10\u001b[0m \u001b[0mprint\u001b[0m\u001b[0;34m(\u001b[0m\u001b[0;34m'Patslip of Radha'\u001b[0m\u001b[0;34m)\u001b[0m\u001b[0;34m\u001b[0m\u001b[0;34m\u001b[0m\u001b[0m\n",
            "\u001b[0;31mTypeError\u001b[0m: can't multiply sequence by non-int of type 'float'"
          ]
        }
      ],
      "source": [
        "#def payslip=input(basic_salary,sales,commision)\n",
        "print('Enter Salary:' )\n",
        "salary = input()\n",
        "print('Enter Sales:' )\n",
        "sales = input()\n",
        "print('Enter Commission:' )\n",
        "commision = input()\n",
        "tax = (salary + commision) * 0.10\n",
        "pay = salary + commision - tax\n",
        "print('Patslip of Radha')\n",
        "print('Salary', salary,'Commision',commision,'Tax', tax)\n",
        "print('Total pay', pay)"
      ]
    }
  ],
  "metadata": {
    "colab": {
      "provenance": [],
      "include_colab_link": true
    },
    "kernelspec": {
      "display_name": "Python 3",
      "name": "python3"
    },
    "language_info": {
      "name": "python"
    }
  },
  "nbformat": 4,
  "nbformat_minor": 0
}